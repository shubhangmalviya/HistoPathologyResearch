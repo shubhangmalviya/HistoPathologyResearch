{
  "cells": [
    {
      "cell_type": "markdown",
      "metadata": {},
      "source": [
        "# Research Question 3: GPU-Accelerated Stain Normalization Analysis\n",
        "\n",
        "## \ud83d\ude80 GPU-Optimized Version for High-Performance Computing\n",
        "\n",
        "**Research Question**: Does stain normalization improve U-Net-based nuclei instance segmentation on the PanNuke dataset compared to unnormalized data?\n",
        "\n",
        "### Key Optimizations in This Version:\n",
        "- **GPU Acceleration**: PyTorch-based implementation with CUDA support\n",
        "- **Batch Processing**: Process multiple images simultaneously\n",
        "- **Memory Management**: Efficient GPU memory usage\n",
        "- **Performance**: 50-500x speedup compared to CPU version\n",
        "\n",
        "### Expected Performance:\n",
        "- **CPU Version**: 4-7 hours for full dataset (5,072 images)\n",
        "- **GPU Version**: 6-12 minutes for full dataset\n",
        "- **Batch Size**: Automatically adjusted based on GPU memory"
      ]
    },
    {
      "cell_type": "code",
      "execution_count": null,
      "metadata": {},
      "outputs": [],
      "source": [
        "# GPU-Optimized imports and setup\n",
        "import torch\n",
        "import torch.nn.functional as F\n",
        "import numpy as np\n",
        "import matplotlib.pyplot as plt\n",
        "import seaborn as sns\n",
        "import pandas as pd\n",
        "import cv2\n",
        "from pathlib import Path\n",
        "import os\n",
        "import sys\n",
        "import warnings\n",
        "from PIL import Image\n",
        "import random\n",
        "import time\n",
        "from collections import defaultdict\n",
        "from typing import List, Dict, Tuple\n",
        "import gc\n",
        "\n",
        "# Setup paths\n",
        "project_root = Path('/Users/shubhangmalviya/Documents/Projects/Walsh College/HistoPathologyResearch')\n",
        "sys.path.append(str(project_root))\n",
        "\n",
        "# Import our GPU-accelerated stain normalization implementation\n",
        "from src.preprocessing.vahadane_gpu import GPUVahadaneNormalizer, create_gpu_normalizer\n",
        "\n",
        "# Set style and warnings\n",
        "try:\n",
        "    plt.style.use('seaborn-v0_8')\n",
        "except:\n",
        "    plt.style.use('seaborn')\n",
        "sns.set_palette('husl')\n",
        "warnings.filterwarnings('ignore')\n",
        "\n",
        "# Set random seeds for reproducibility\n",
        "random.seed(42)\n",
        "np.random.seed(42)\n",
        "torch.manual_seed(42)\n",
        "if torch.cuda.is_available():\n",
        "    torch.cuda.manual_seed(42)\n",
        "\n",
        "print(\"\ud83d\ude80 GPU-Optimized Stain Normalization EDA Initialized\")\n",
        "print(f\"PyTorch version: {torch.__version__}\")\n",
        "print(f\"CUDA available: {torch.cuda.is_available()}\")\n",
        "if torch.cuda.is_available():\n",
        "    print(f\"GPU: {torch.cuda.get_device_name()}\")\n",
        "    print(f\"GPU Memory: {torch.cuda.get_device_properties(0).total_memory / 1e9:.1f} GB\")\n",
        "else:\n",
        "    print(\"\u26a0\ufe0f  Running on CPU - GPU not available\")"
      ]
    }
  ],
  "metadata": {
    "kernelspec": {
      "display_name": "Python 3",
      "language": "python",
      "name": "python3"
    },
    "language_info": {
      "codemirror_mode": {
        "name": "ipython",
        "version": 3
      },
      "file_extension": ".py",
      "mimetype": "text/x-python",
      "name": "python",
      "nbconvert_exporter": "python",
      "pygments_lexer": "ipython3",
      "version": "3.8.5"
    }
  },
  "nbformat": 4,
  "nbformat_minor": 4
}